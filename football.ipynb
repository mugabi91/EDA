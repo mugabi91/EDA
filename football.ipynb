{
 "cells": [
  {
   "cell_type": "markdown",
   "id": "593bf6a6-53c4-46f2-9a65-4fc2afffa05a",
   "metadata": {},
   "source": []
  },
  {
   "cell_type": "code",
   "execution_count": 54,
   "id": "51ca46ea-abdc-4a14-b636-204653776536",
   "metadata": {},
   "outputs": [],
   "source": [
    "#importing modules\n",
    "import pandas as pd\n",
    "import seaborn as sns\n",
    "import matplotlib.pyplot as plt\n",
    "\n",
    "%matplotlib inline\n",
    "sns.set_palette(palette='viridis')\n",
    "sns.set_style(style='dark')"
   ]
  },
  {
   "cell_type": "code",
   "execution_count": 2,
   "id": "41b8e367-5f5b-4cc4-ad1e-60c77a4b56db",
   "metadata": {},
   "outputs": [],
   "source": [
    "path = r\"C:\\Users\\M D\\Downloads\\archive\\trending_football_players.xlsx\""
   ]
  },
  {
   "cell_type": "markdown",
   "id": "95f3a3aa-b7c2-4b43-a9e1-00d5135ef8b4",
   "metadata": {
    "jp-MarkdownHeadingCollapsed": true
   },
   "source": [
    "### Initial Exploration"
   ]
  },
  {
   "cell_type": "code",
   "execution_count": 3,
   "id": "9a3e54a6-fc44-4c80-9926-4837c3fb199e",
   "metadata": {},
   "outputs": [
    {
     "data": {
      "text/html": [
       "<div>\n",
       "<style scoped>\n",
       "    .dataframe tbody tr th:only-of-type {\n",
       "        vertical-align: middle;\n",
       "    }\n",
       "\n",
       "    .dataframe tbody tr th {\n",
       "        vertical-align: top;\n",
       "    }\n",
       "\n",
       "    .dataframe thead th {\n",
       "        text-align: right;\n",
       "    }\n",
       "</style>\n",
       "<table border=\"1\" class=\"dataframe\">\n",
       "  <thead>\n",
       "    <tr style=\"text-align: right;\">\n",
       "      <th></th>\n",
       "      <th>Player_name</th>\n",
       "      <th>Images</th>\n",
       "      <th>Age</th>\n",
       "      <th>National_team</th>\n",
       "      <th>Positions</th>\n",
       "      <th>Overall</th>\n",
       "      <th>Potential_overall</th>\n",
       "      <th>Current_club</th>\n",
       "      <th>Current_contract</th>\n",
       "      <th>Value</th>\n",
       "      <th>Wage</th>\n",
       "      <th>Total_stats</th>\n",
       "    </tr>\n",
       "  </thead>\n",
       "  <tbody>\n",
       "    <tr>\n",
       "      <th>0</th>\n",
       "      <td>T. Almada</td>\n",
       "      <td>https://cdn.sofifa.net/players/245/371/24_60.png</td>\n",
       "      <td>22</td>\n",
       "      <td>Argentina</td>\n",
       "      <td>['CAM', 'CM', 'CF']</td>\n",
       "      <td>79</td>\n",
       "      <td>87</td>\n",
       "      <td>Atlanta United</td>\n",
       "      <td>2022 ~ 2025</td>\n",
       "      <td>€39.5M</td>\n",
       "      <td>€10K</td>\n",
       "      <td>2050</td>\n",
       "    </tr>\n",
       "    <tr>\n",
       "      <th>1</th>\n",
       "      <td>L. Palma</td>\n",
       "      <td>https://cdn.sofifa.net/player_0.svg</td>\n",
       "      <td>23</td>\n",
       "      <td>Honduras</td>\n",
       "      <td>['LW']</td>\n",
       "      <td>69</td>\n",
       "      <td>75</td>\n",
       "      <td>Celtic</td>\n",
       "      <td>2023 ~ 2028</td>\n",
       "      <td>€2.2M</td>\n",
       "      <td>€22K</td>\n",
       "      <td>1794</td>\n",
       "    </tr>\n",
       "    <tr>\n",
       "      <th>2</th>\n",
       "      <td>R. Lavia</td>\n",
       "      <td>https://cdn.sofifa.net/players/263/620/24_60.png</td>\n",
       "      <td>19</td>\n",
       "      <td>Belgium</td>\n",
       "      <td>['CDM']</td>\n",
       "      <td>73</td>\n",
       "      <td>86</td>\n",
       "      <td>Chelsea</td>\n",
       "      <td>2023 ~ 2030</td>\n",
       "      <td>€7M</td>\n",
       "      <td>€32K</td>\n",
       "      <td>1829</td>\n",
       "    </tr>\n",
       "    <tr>\n",
       "      <th>3</th>\n",
       "      <td>W. Zaïre-Emery</td>\n",
       "      <td>https://cdn.sofifa.net/players/270/673/24_60.png</td>\n",
       "      <td>17</td>\n",
       "      <td>France</td>\n",
       "      <td>['CM', 'CDM']</td>\n",
       "      <td>77</td>\n",
       "      <td>89</td>\n",
       "      <td>Paris Saint Germain</td>\n",
       "      <td>2022 ~ 2025</td>\n",
       "      <td>€24M</td>\n",
       "      <td>€9K</td>\n",
       "      <td>2080</td>\n",
       "    </tr>\n",
       "    <tr>\n",
       "      <th>4</th>\n",
       "      <td>Gabri Veiga</td>\n",
       "      <td>https://cdn.sofifa.net/players/258/729/24_60.png</td>\n",
       "      <td>21</td>\n",
       "      <td>Spain</td>\n",
       "      <td>['CM', 'CAM']</td>\n",
       "      <td>78</td>\n",
       "      <td>89</td>\n",
       "      <td>Al Ahli Jeddah</td>\n",
       "      <td>2023 ~ 2026</td>\n",
       "      <td>€31.5M</td>\n",
       "      <td>€28K</td>\n",
       "      <td>1944</td>\n",
       "    </tr>\n",
       "  </tbody>\n",
       "</table>\n",
       "</div>"
      ],
      "text/plain": [
       "      Player_name                                            Images  Age  \\\n",
       "0       T. Almada  https://cdn.sofifa.net/players/245/371/24_60.png   22   \n",
       "1        L. Palma               https://cdn.sofifa.net/player_0.svg   23   \n",
       "2        R. Lavia  https://cdn.sofifa.net/players/263/620/24_60.png   19   \n",
       "3  W. Zaïre-Emery  https://cdn.sofifa.net/players/270/673/24_60.png   17   \n",
       "4     Gabri Veiga  https://cdn.sofifa.net/players/258/729/24_60.png   21   \n",
       "\n",
       "  National_team            Positions  Overall  Potential_overall  \\\n",
       "0     Argentina  ['CAM', 'CM', 'CF']       79                 87   \n",
       "1      Honduras               ['LW']       69                 75   \n",
       "2       Belgium              ['CDM']       73                 86   \n",
       "3        France        ['CM', 'CDM']       77                 89   \n",
       "4         Spain        ['CM', 'CAM']       78                 89   \n",
       "\n",
       "          Current_club Current_contract   Value  Wage  Total_stats  \n",
       "0       Atlanta United      2022 ~ 2025  €39.5M  €10K         2050  \n",
       "1               Celtic      2023 ~ 2028   €2.2M  €22K         1794  \n",
       "2              Chelsea      2023 ~ 2030     €7M  €32K         1829  \n",
       "3  Paris Saint Germain      2022 ~ 2025    €24M   €9K         2080  \n",
       "4       Al Ahli Jeddah      2023 ~ 2026  €31.5M  €28K         1944  "
      ]
     },
     "execution_count": 3,
     "metadata": {},
     "output_type": "execute_result"
    }
   ],
   "source": [
    "#reading in data\n",
    "players = pd.read_excel(path)\n",
    "players.head()"
   ]
  },
  {
   "cell_type": "code",
   "execution_count": 4,
   "id": "6ba83f11-fc74-4553-a4ba-280c13baa060",
   "metadata": {
    "scrolled": true
   },
   "outputs": [
    {
     "data": {
      "text/plain": [
       "(3000, 12)"
      ]
     },
     "execution_count": 4,
     "metadata": {},
     "output_type": "execute_result"
    }
   ],
   "source": [
    "#total entries\n",
    "players.shape"
   ]
  },
  {
   "cell_type": "markdown",
   "id": "eaeddd82-5c9e-42a8-a19b-f3978a7c91af",
   "metadata": {},
   "source": [
    "i have 3000  players in the dataframe"
   ]
  },
  {
   "cell_type": "code",
   "execution_count": 5,
   "id": "0a37aed7-e11f-4109-9826-324bde4b98ea",
   "metadata": {},
   "outputs": [],
   "source": [
    "#dont need the images columns\n",
    "players.drop('Images',axis=1 , inplace=True)"
   ]
  },
  {
   "cell_type": "markdown",
   "id": "e9330227-76dc-4478-b42b-91f1e7e1c292",
   "metadata": {},
   "source": [
    "Dropping Duplicates if any exists "
   ]
  },
  {
   "cell_type": "code",
   "execution_count": 6,
   "id": "f83efd7c-4c69-4977-a54c-6af9d320ef62",
   "metadata": {},
   "outputs": [],
   "source": [
    "players = players.drop_duplicates()"
   ]
  },
  {
   "cell_type": "code",
   "execution_count": 7,
   "id": "a90e3013-8755-4ce6-a8f0-300345191fb6",
   "metadata": {},
   "outputs": [
    {
     "data": {
      "text/plain": [
       "(2299, 11)"
      ]
     },
     "execution_count": 7,
     "metadata": {},
     "output_type": "execute_result"
    }
   ],
   "source": [
    "players.shape"
   ]
  },
  {
   "cell_type": "markdown",
   "id": "3dd9dacb-e62c-4d06-a76c-8a438c44d5d1",
   "metadata": {},
   "source": [
    "i have 2299 players now after dropping the duplicated player"
   ]
  },
  {
   "cell_type": "code",
   "execution_count": 8,
   "id": "de649796-1ce6-473f-ae8b-e7ede9e96acf",
   "metadata": {},
   "outputs": [
    {
     "data": {
      "text/html": [
       "<div>\n",
       "<style scoped>\n",
       "    .dataframe tbody tr th:only-of-type {\n",
       "        vertical-align: middle;\n",
       "    }\n",
       "\n",
       "    .dataframe tbody tr th {\n",
       "        vertical-align: top;\n",
       "    }\n",
       "\n",
       "    .dataframe thead th {\n",
       "        text-align: right;\n",
       "    }\n",
       "</style>\n",
       "<table border=\"1\" class=\"dataframe\">\n",
       "  <thead>\n",
       "    <tr style=\"text-align: right;\">\n",
       "      <th></th>\n",
       "      <th>Age</th>\n",
       "      <th>National_team</th>\n",
       "      <th>Positions</th>\n",
       "      <th>Overall</th>\n",
       "      <th>Potential_overall</th>\n",
       "      <th>Current_club</th>\n",
       "      <th>Current_contract</th>\n",
       "      <th>Value</th>\n",
       "      <th>Wage</th>\n",
       "      <th>Total_stats</th>\n",
       "    </tr>\n",
       "    <tr>\n",
       "      <th>Player_name</th>\n",
       "      <th></th>\n",
       "      <th></th>\n",
       "      <th></th>\n",
       "      <th></th>\n",
       "      <th></th>\n",
       "      <th></th>\n",
       "      <th></th>\n",
       "      <th></th>\n",
       "      <th></th>\n",
       "      <th></th>\n",
       "    </tr>\n",
       "  </thead>\n",
       "  <tbody>\n",
       "    <tr>\n",
       "      <th>T. Almada</th>\n",
       "      <td>22</td>\n",
       "      <td>Argentina</td>\n",
       "      <td>['CAM', 'CM', 'CF']</td>\n",
       "      <td>79</td>\n",
       "      <td>87</td>\n",
       "      <td>Atlanta United</td>\n",
       "      <td>2022 ~ 2025</td>\n",
       "      <td>€39.5M</td>\n",
       "      <td>€10K</td>\n",
       "      <td>2050</td>\n",
       "    </tr>\n",
       "    <tr>\n",
       "      <th>L. Palma</th>\n",
       "      <td>23</td>\n",
       "      <td>Honduras</td>\n",
       "      <td>['LW']</td>\n",
       "      <td>69</td>\n",
       "      <td>75</td>\n",
       "      <td>Celtic</td>\n",
       "      <td>2023 ~ 2028</td>\n",
       "      <td>€2.2M</td>\n",
       "      <td>€22K</td>\n",
       "      <td>1794</td>\n",
       "    </tr>\n",
       "    <tr>\n",
       "      <th>R. Lavia</th>\n",
       "      <td>19</td>\n",
       "      <td>Belgium</td>\n",
       "      <td>['CDM']</td>\n",
       "      <td>73</td>\n",
       "      <td>86</td>\n",
       "      <td>Chelsea</td>\n",
       "      <td>2023 ~ 2030</td>\n",
       "      <td>€7M</td>\n",
       "      <td>€32K</td>\n",
       "      <td>1829</td>\n",
       "    </tr>\n",
       "    <tr>\n",
       "      <th>W. Zaïre-Emery</th>\n",
       "      <td>17</td>\n",
       "      <td>France</td>\n",
       "      <td>['CM', 'CDM']</td>\n",
       "      <td>77</td>\n",
       "      <td>89</td>\n",
       "      <td>Paris Saint Germain</td>\n",
       "      <td>2022 ~ 2025</td>\n",
       "      <td>€24M</td>\n",
       "      <td>€9K</td>\n",
       "      <td>2080</td>\n",
       "    </tr>\n",
       "    <tr>\n",
       "      <th>Gabri Veiga</th>\n",
       "      <td>21</td>\n",
       "      <td>Spain</td>\n",
       "      <td>['CM', 'CAM']</td>\n",
       "      <td>78</td>\n",
       "      <td>89</td>\n",
       "      <td>Al Ahli Jeddah</td>\n",
       "      <td>2023 ~ 2026</td>\n",
       "      <td>€31.5M</td>\n",
       "      <td>€28K</td>\n",
       "      <td>1944</td>\n",
       "    </tr>\n",
       "  </tbody>\n",
       "</table>\n",
       "</div>"
      ],
      "text/plain": [
       "                Age National_team            Positions  Overall  \\\n",
       "Player_name                                                       \n",
       "T. Almada        22     Argentina  ['CAM', 'CM', 'CF']       79   \n",
       "L. Palma         23      Honduras               ['LW']       69   \n",
       "R. Lavia         19       Belgium              ['CDM']       73   \n",
       "W. Zaïre-Emery   17        France        ['CM', 'CDM']       77   \n",
       "Gabri Veiga      21         Spain        ['CM', 'CAM']       78   \n",
       "\n",
       "                Potential_overall         Current_club Current_contract  \\\n",
       "Player_name                                                               \n",
       "T. Almada                      87       Atlanta United      2022 ~ 2025   \n",
       "L. Palma                       75               Celtic      2023 ~ 2028   \n",
       "R. Lavia                       86              Chelsea      2023 ~ 2030   \n",
       "W. Zaïre-Emery                 89  Paris Saint Germain      2022 ~ 2025   \n",
       "Gabri Veiga                    89       Al Ahli Jeddah      2023 ~ 2026   \n",
       "\n",
       "                 Value  Wage  Total_stats  \n",
       "Player_name                                \n",
       "T. Almada       €39.5M  €10K         2050  \n",
       "L. Palma         €2.2M  €22K         1794  \n",
       "R. Lavia           €7M  €32K         1829  \n",
       "W. Zaïre-Emery    €24M   €9K         2080  \n",
       "Gabri Veiga     €31.5M  €28K         1944  "
      ]
     },
     "execution_count": 8,
     "metadata": {},
     "output_type": "execute_result"
    }
   ],
   "source": [
    "#setting names as index\n",
    "players.set_index('Player_name', inplace=True)\n",
    "players.head()"
   ]
  },
  {
   "cell_type": "code",
   "execution_count": 9,
   "id": "a03307a6-8012-48e2-a89c-4ff2c924f7c1",
   "metadata": {},
   "outputs": [
    {
     "name": "stdout",
     "output_type": "stream",
     "text": [
      "<class 'pandas.core.frame.DataFrame'>\n",
      "Index: 2299 entries, T. Almada to T. Băluță\n",
      "Data columns (total 10 columns):\n",
      " #   Column             Non-Null Count  Dtype \n",
      "---  ------             --------------  ----- \n",
      " 0   Age                2299 non-null   int64 \n",
      " 1   National_team      2299 non-null   object\n",
      " 2   Positions          2299 non-null   object\n",
      " 3   Overall            2299 non-null   int64 \n",
      " 4   Potential_overall  2299 non-null   int64 \n",
      " 5   Current_club       2299 non-null   object\n",
      " 6   Current_contract   2299 non-null   object\n",
      " 7   Value              2299 non-null   object\n",
      " 8   Wage               2299 non-null   object\n",
      " 9   Total_stats        2299 non-null   int64 \n",
      "dtypes: int64(4), object(6)\n",
      "memory usage: 197.6+ KB\n"
     ]
    }
   ],
   "source": [
    "#getting info on data frame \n",
    "players.info()"
   ]
  },
  {
   "cell_type": "code",
   "execution_count": 10,
   "id": "fd63eef9-6ac4-45ba-b911-39c05b292bf0",
   "metadata": {},
   "outputs": [
    {
     "data": {
      "text/html": [
       "<div>\n",
       "<style scoped>\n",
       "    .dataframe tbody tr th:only-of-type {\n",
       "        vertical-align: middle;\n",
       "    }\n",
       "\n",
       "    .dataframe tbody tr th {\n",
       "        vertical-align: top;\n",
       "    }\n",
       "\n",
       "    .dataframe thead th {\n",
       "        text-align: right;\n",
       "    }\n",
       "</style>\n",
       "<table border=\"1\" class=\"dataframe\">\n",
       "  <thead>\n",
       "    <tr style=\"text-align: right;\">\n",
       "      <th></th>\n",
       "      <th>index</th>\n",
       "      <th>0</th>\n",
       "    </tr>\n",
       "  </thead>\n",
       "  <tbody>\n",
       "    <tr>\n",
       "      <th>0</th>\n",
       "      <td>Age</td>\n",
       "      <td>0</td>\n",
       "    </tr>\n",
       "    <tr>\n",
       "      <th>1</th>\n",
       "      <td>National_team</td>\n",
       "      <td>0</td>\n",
       "    </tr>\n",
       "    <tr>\n",
       "      <th>2</th>\n",
       "      <td>Positions</td>\n",
       "      <td>0</td>\n",
       "    </tr>\n",
       "    <tr>\n",
       "      <th>3</th>\n",
       "      <td>Overall</td>\n",
       "      <td>0</td>\n",
       "    </tr>\n",
       "    <tr>\n",
       "      <th>4</th>\n",
       "      <td>Potential_overall</td>\n",
       "      <td>0</td>\n",
       "    </tr>\n",
       "    <tr>\n",
       "      <th>5</th>\n",
       "      <td>Current_club</td>\n",
       "      <td>0</td>\n",
       "    </tr>\n",
       "    <tr>\n",
       "      <th>6</th>\n",
       "      <td>Current_contract</td>\n",
       "      <td>0</td>\n",
       "    </tr>\n",
       "    <tr>\n",
       "      <th>7</th>\n",
       "      <td>Value</td>\n",
       "      <td>0</td>\n",
       "    </tr>\n",
       "    <tr>\n",
       "      <th>8</th>\n",
       "      <td>Wage</td>\n",
       "      <td>0</td>\n",
       "    </tr>\n",
       "    <tr>\n",
       "      <th>9</th>\n",
       "      <td>Total_stats</td>\n",
       "      <td>0</td>\n",
       "    </tr>\n",
       "  </tbody>\n",
       "</table>\n",
       "</div>"
      ],
      "text/plain": [
       "               index  0\n",
       "0                Age  0\n",
       "1      National_team  0\n",
       "2          Positions  0\n",
       "3            Overall  0\n",
       "4  Potential_overall  0\n",
       "5       Current_club  0\n",
       "6   Current_contract  0\n",
       "7              Value  0\n",
       "8               Wage  0\n",
       "9        Total_stats  0"
      ]
     },
     "execution_count": 10,
     "metadata": {},
     "output_type": "execute_result"
    }
   ],
   "source": [
    "#checking \n",
    "players.isna().sum().reset_index()"
   ]
  },
  {
   "cell_type": "markdown",
   "id": "5714940e-8751-439e-aa89-999a876274dd",
   "metadata": {},
   "source": [
    "#  EXPLORATORY DATA ANALYSIS (EDA) \n",
    "## UNIVARIATE ANALYSIS"
   ]
  },
  {
   "cell_type": "markdown",
   "id": "6396ad87-e6b0-4c01-87db-b96496ec1971",
   "metadata": {
    "jp-MarkdownHeadingCollapsed": true
   },
   "source": [
    "### Feature: Age"
   ]
  },
  {
   "cell_type": "code",
   "execution_count": 11,
   "id": "7cc15e45-1ae0-4458-9d27-ce8ff96b8542",
   "metadata": {},
   "outputs": [
    {
     "data": {
      "text/plain": [
       "count    2299.000000\n",
       "mean       24.035668\n",
       "std         4.493350\n",
       "min        16.000000\n",
       "25%        21.000000\n",
       "50%        23.000000\n",
       "75%        27.000000\n",
       "max        44.000000\n",
       "Name: Age, dtype: float64"
      ]
     },
     "execution_count": 11,
     "metadata": {},
     "output_type": "execute_result"
    }
   ],
   "source": [
    "players.Age.describe()"
   ]
  },
  {
   "cell_type": "code",
   "execution_count": 12,
   "id": "a36af664-b395-49a1-af75-d1213ac4a50d",
   "metadata": {},
   "outputs": [],
   "source": [
    "#boxplot fun\n",
    "def boxplt(df,column):\n",
    "    \"\"\"takes df and column returns its boxplot\"\"\"\n",
    "    sns.boxplot(data=df[column])\n",
    "    plt.title(f'Boxplot of the Players {column}')\n",
    "    plt.ylabel(f'{column}')"
   ]
  },
  {
   "cell_type": "code",
   "execution_count": 13,
   "id": "658d4018-8538-4145-9d74-65248f845e68",
   "metadata": {},
   "outputs": [
    {
     "data": {
      "image/png": "[encoded data removed]",
      "text/plain": [
       "<Figure size 640x480 with 1 Axes>"
      ]
     },
     "metadata": {},
     "output_type": "display_data"
    }
   ],
   "source": [
    "#boxplot of Age\n",
    "boxplt(players,\"Age\")"
   ]
  },
  {
   "cell_type": "markdown",
   "id": "80d37184-4941-4579-aa2b-433489d66cf0",
   "metadata": {},
   "source": [
    "looks we have some outliners."
   ]
  },
  {
   "cell_type": "code",
   "execution_count": 14,
   "id": "c8a01432-c66f-4601-8b97-32eb1eae5a55",
   "metadata": {},
   "outputs": [],
   "source": [
    "#taking care of outliners and description\n",
    "def interquantile_range(df , column):\n",
    "    \"\"\" takes df and column  returns the IQR and Confid Level intervals\"\"\"\n",
    "    #locating the outliners players according to the age \n",
    "    percentile_1 = df[column].quantile(q=0.75)\n",
    "    percentile_3 = df[column].quantile(q=0.25)\n",
    "    IQR = percentile_1-percentile_3\n",
    "\n",
    "    #creating CL intervals\n",
    "    lower_limit = percentile_1 - 1.5*IQR \n",
    "    upper_limit = percentile_3 + 1.5*IQR\n",
    "    lower_limit ,upper_limit\n",
    "    \n",
    "\n",
    "    def IQR_summary(df=df,column=column):\n",
    "        players_below_lowerlimit = df[df[column]< lower_limit].groupby('Player_name').size().sum()\n",
    "        players_above_upperlimit = df[df[column]> upper_limit].groupby('Player_name').size().sum()\n",
    "        players_inbetween = df[(df[column] >= lower_limit) & (df[column] <= upper_limit)].groupby('Player_name').size().sum()\n",
    "        return print(f'players below {lower_limit:.0f} {column} are {players_below_lowerlimit} players\\nplayers above {upper_limit:.0f} {column} are {players_above_upperlimit} players\\nplayers between {lower_limit:.0f} {column} and {upper_limit:.0f} {column} are {players_inbetween} players')\n",
    "    \n",
    "    return print (f'IQR:{IQR},Lower_Limit:{lower_limit},Upper_Limit:{upper_limit}'),IQR_summary(df,column)\n",
    "    "
   ]
  },
  {
   "cell_type": "code",
   "execution_count": 15,
   "id": "6faf61cd-0686-4641-a07d-0d219e558df1",
   "metadata": {
    "scrolled": true
   },
   "outputs": [
    {
     "name": "stdout",
     "output_type": "stream",
     "text": [
      "IQR:6.0,Lower_Limit:18.0,Upper_Limit:30.0\n",
      "players below 18 Age are 56 players\n",
      "players above 30 Age are 219 players\n",
      "players between 18 Age and 30 Age are 2024 players\n"
     ]
    },
    {
     "data": {
      "text/plain": [
       "(None, None)"
      ]
     },
     "execution_count": 15,
     "metadata": {},
     "output_type": "execute_result"
    }
   ],
   "source": [
    "#locating the outliners players according to the age \n",
    "interquantile_range(players,\"Age\")"
   ]
  },
  {
   "cell_type": "code",
   "execution_count": 16,
   "id": "fb2f5b67-4e0b-41a0-88d9-6fac3d5edb20",
   "metadata": {},
   "outputs": [],
   "source": [
    "#getting histogram plot\n",
    "def histogram(df,column,bins=20):\n",
    "    \"\"\" Takes df.column as df and column returns histplot \"\"\"\n",
    "    fig, ax = plt.subplots(figsize=(9,4))\n",
    "    sns.histplot(data=df,bins=bins,ax=ax , kde=True)\n",
    "    ax.set_title(f'Histogram of the Players {column}')\n",
    "    ax.set_xlabel(column)\n",
    "    ax.set_ylabel(\"Frequency\")\n",
    "\n"
   ]
  },
  {
   "cell_type": "code",
   "execution_count": 17,
   "id": "18533858-fe61-476f-a85f-85f8171be2b8",
   "metadata": {},
   "outputs": [
    {
     "data": {
      "image/png": "[encoded data removed]",
      "text/plain": [
       "<Figure size 900x400 with 1 Axes>"
      ]
     },
     "metadata": {},
     "output_type": "display_data"
    }
   ],
   "source": [
    "#visualising histogram \n",
    "histogram(players.Age, \"Age\")\n",
    "\n"
   ]
  },
  {
   "cell_type": "code",
   "execution_count": 18,
   "id": "98e21c4b-b382-4b0c-b6eb-b55f86eeb539",
   "metadata": {},
   "outputs": [],
   "source": [
    "#for checking for normality \n",
    "from scipy.stats import shapiro\n",
    "def check_normality(df,column):\n",
    "    # Perform Shapiro-Wilk test\n",
    "    statistic, p_value = shapiro(df[column])\n",
    "    \n",
    "    # Display the results\n",
    "    print(f\"Shapiro-Wilk Test Statistic: {statistic}\")\n",
    "    print(f\"P-value: {p_value}\")\n",
    "    \n",
    "    # Checking the significance level (commonly 0.05)\n",
    "    alpha = 0.05\n",
    "    if p_value > alpha:\n",
    "        print(f\"{column} is  likely to be follow  a normal distribution.\")\n",
    "    else:\n",
    "        print(f\"{column} does not likely  follow a normal distribution.\")\n"
   ]
  },
  {
   "cell_type": "code",
   "execution_count": 19,
   "id": "94b0f79f-c78b-45a2-b70b-22da4d43462e",
   "metadata": {},
   "outputs": [
    {
     "name": "stdout",
     "output_type": "stream",
     "text": [
      "Shapiro-Wilk Test Statistic: 0.9495247006416321\n",
      "P-value: 2.0135025567375068e-27\n",
      "Age does not likely  follow a normal distribution.\n"
     ]
    }
   ],
   "source": [
    "check_normality(players,'Age')"
   ]
  },
  {
   "cell_type": "code",
   "execution_count": 20,
   "id": "efef2f7e-9ad1-4255-8f1b-42df347a5644",
   "metadata": {},
   "outputs": [
    {
     "data": {
      "text/html": [
       "<div>\n",
       "<style scoped>\n",
       "    .dataframe tbody tr th:only-of-type {\n",
       "        vertical-align: middle;\n",
       "    }\n",
       "\n",
       "    .dataframe tbody tr th {\n",
       "        vertical-align: top;\n",
       "    }\n",
       "\n",
       "    .dataframe thead th {\n",
       "        text-align: right;\n",
       "    }\n",
       "</style>\n",
       "<table border=\"1\" class=\"dataframe\">\n",
       "  <thead>\n",
       "    <tr style=\"text-align: right;\">\n",
       "      <th></th>\n",
       "      <th>Age</th>\n",
       "      <th>National_team</th>\n",
       "      <th>Positions</th>\n",
       "      <th>Overall</th>\n",
       "      <th>Potential_overall</th>\n",
       "      <th>Current_club</th>\n",
       "      <th>Current_contract</th>\n",
       "      <th>Value</th>\n",
       "      <th>Wage</th>\n",
       "      <th>Total_stats</th>\n",
       "    </tr>\n",
       "    <tr>\n",
       "      <th>Player_name</th>\n",
       "      <th></th>\n",
       "      <th></th>\n",
       "      <th></th>\n",
       "      <th></th>\n",
       "      <th></th>\n",
       "      <th></th>\n",
       "      <th></th>\n",
       "      <th></th>\n",
       "      <th></th>\n",
       "      <th></th>\n",
       "    </tr>\n",
       "  </thead>\n",
       "  <tbody>\n",
       "    <tr>\n",
       "      <th>23\\n G. Buffon</th>\n",
       "      <td>44</td>\n",
       "      <td>Italy</td>\n",
       "      <td>['GK']</td>\n",
       "      <td>77</td>\n",
       "      <td>77</td>\n",
       "      <td>Parma</td>\n",
       "      <td>2021 ~ 2024</td>\n",
       "      <td>€1.2M</td>\n",
       "      <td>€3K</td>\n",
       "      <td>1244</td>\n",
       "    </tr>\n",
       "  </tbody>\n",
       "</table>\n",
       "</div>"
      ],
      "text/plain": [
       "                Age National_team Positions  Overall  Potential_overall  \\\n",
       "Player_name                                                               \n",
       "23\\n G. Buffon   44         Italy    ['GK']       77                 77   \n",
       "\n",
       "               Current_club Current_contract  Value Wage  Total_stats  \n",
       "Player_name                                                            \n",
       "23\\n G. Buffon        Parma      2021 ~ 2024  €1.2M  €3K         1244  "
      ]
     },
     "execution_count": 20,
     "metadata": {},
     "output_type": "execute_result"
    }
   ],
   "source": [
    "#querying  df for the max age  \n",
    "players[players['Age']==players['Age'].max()]"
   ]
  },
  {
   "cell_type": "code",
   "execution_count": 21,
   "id": "8b173063-eb09-4ae4-b17f-4f18c315359c",
   "metadata": {},
   "outputs": [
    {
     "data": {
      "text/html": [
       "<div>\n",
       "<style scoped>\n",
       "    .dataframe tbody tr th:only-of-type {\n",
       "        vertical-align: middle;\n",
       "    }\n",
       "\n",
       "    .dataframe tbody tr th {\n",
       "        vertical-align: top;\n",
       "    }\n",
       "\n",
       "    .dataframe thead th {\n",
       "        text-align: right;\n",
       "    }\n",
       "</style>\n",
       "<table border=\"1\" class=\"dataframe\">\n",
       "  <thead>\n",
       "    <tr style=\"text-align: right;\">\n",
       "      <th></th>\n",
       "      <th>Age</th>\n",
       "      <th>National_team</th>\n",
       "      <th>Positions</th>\n",
       "      <th>Overall</th>\n",
       "      <th>Potential_overall</th>\n",
       "      <th>Current_club</th>\n",
       "      <th>Current_contract</th>\n",
       "      <th>Value</th>\n",
       "      <th>Wage</th>\n",
       "      <th>Total_stats</th>\n",
       "    </tr>\n",
       "    <tr>\n",
       "      <th>Player_name</th>\n",
       "      <th></th>\n",
       "      <th></th>\n",
       "      <th></th>\n",
       "      <th></th>\n",
       "      <th></th>\n",
       "      <th></th>\n",
       "      <th></th>\n",
       "      <th></th>\n",
       "      <th></th>\n",
       "      <th></th>\n",
       "    </tr>\n",
       "  </thead>\n",
       "  <tbody>\n",
       "    <tr>\n",
       "      <th>G. Ilenikhena</th>\n",
       "      <td>16</td>\n",
       "      <td>France</td>\n",
       "      <td>['ST']</td>\n",
       "      <td>64</td>\n",
       "      <td>84</td>\n",
       "      <td>Antwerp</td>\n",
       "      <td>2023 ~ 2027</td>\n",
       "      <td>€1.6M</td>\n",
       "      <td>€1K</td>\n",
       "      <td>1561</td>\n",
       "    </tr>\n",
       "    <tr>\n",
       "      <th>B. Rice</th>\n",
       "      <td>16</td>\n",
       "      <td>Scotland</td>\n",
       "      <td>['CDM']</td>\n",
       "      <td>59</td>\n",
       "      <td>85</td>\n",
       "      <td>Rangers</td>\n",
       "      <td>2021 ~ 2026</td>\n",
       "      <td>€875K</td>\n",
       "      <td>€500</td>\n",
       "      <td>1524</td>\n",
       "    </tr>\n",
       "    <tr>\n",
       "      <th>L. Miller</th>\n",
       "      <td>16</td>\n",
       "      <td>Scotland</td>\n",
       "      <td>['CM']</td>\n",
       "      <td>59</td>\n",
       "      <td>85</td>\n",
       "      <td>Motherwell</td>\n",
       "      <td>2022 ~ 2025</td>\n",
       "      <td>€900K</td>\n",
       "      <td>€500</td>\n",
       "      <td>1621</td>\n",
       "    </tr>\n",
       "    <tr>\n",
       "      <th>S. Amo-Ameyaw</th>\n",
       "      <td>16</td>\n",
       "      <td>England</td>\n",
       "      <td>['LW', 'RW']</td>\n",
       "      <td>60</td>\n",
       "      <td>80</td>\n",
       "      <td>Southampton</td>\n",
       "      <td>2023 ~ 2026</td>\n",
       "      <td>€675K</td>\n",
       "      <td>€1K</td>\n",
       "      <td>1493</td>\n",
       "    </tr>\n",
       "    <tr>\n",
       "      <th>F. Rózga</th>\n",
       "      <td>16</td>\n",
       "      <td>Poland</td>\n",
       "      <td>['LM']</td>\n",
       "      <td>56</td>\n",
       "      <td>79</td>\n",
       "      <td>Cracovia Kraków</td>\n",
       "      <td>2023 ~ 2026</td>\n",
       "      <td>€450K</td>\n",
       "      <td>€500</td>\n",
       "      <td>1344</td>\n",
       "    </tr>\n",
       "    <tr>\n",
       "      <th>F. Rodríguez-Gentile</th>\n",
       "      <td>16</td>\n",
       "      <td>Argentina</td>\n",
       "      <td>['ST']</td>\n",
       "      <td>57</td>\n",
       "      <td>81</td>\n",
       "      <td>Preston North End</td>\n",
       "      <td>2023 ~ 2025</td>\n",
       "      <td>€525K</td>\n",
       "      <td>€1K</td>\n",
       "      <td>1386</td>\n",
       "    </tr>\n",
       "    <tr>\n",
       "      <th>H. Koch</th>\n",
       "      <td>16</td>\n",
       "      <td>Germany</td>\n",
       "      <td>['ST']</td>\n",
       "      <td>57</td>\n",
       "      <td>77</td>\n",
       "      <td>DSC Arminia Bielefeld</td>\n",
       "      <td>2023 ~ 2026</td>\n",
       "      <td>€450K</td>\n",
       "      <td>€500</td>\n",
       "      <td>1383</td>\n",
       "    </tr>\n",
       "    <tr>\n",
       "      <th>M. Egbring</th>\n",
       "      <td>16</td>\n",
       "      <td>Netherlands</td>\n",
       "      <td>['RB']</td>\n",
       "      <td>58</td>\n",
       "      <td>78</td>\n",
       "      <td>Vitesse</td>\n",
       "      <td>2023 ~ 2026</td>\n",
       "      <td>€525K</td>\n",
       "      <td>€500</td>\n",
       "      <td>1443</td>\n",
       "    </tr>\n",
       "    <tr>\n",
       "      <th>K. Kolanko</th>\n",
       "      <td>16</td>\n",
       "      <td>Poland</td>\n",
       "      <td>['LM']</td>\n",
       "      <td>55</td>\n",
       "      <td>80</td>\n",
       "      <td>Górnik Zabrze</td>\n",
       "      <td>2022 ~ 2024</td>\n",
       "      <td>€400K</td>\n",
       "      <td>€500</td>\n",
       "      <td>1344</td>\n",
       "    </tr>\n",
       "    <tr>\n",
       "      <th>D. Alfonsi</th>\n",
       "      <td>16</td>\n",
       "      <td>Sweden</td>\n",
       "      <td>['CM']</td>\n",
       "      <td>53</td>\n",
       "      <td>77</td>\n",
       "      <td>Varberg BoIS</td>\n",
       "      <td>2022 ~ 2025</td>\n",
       "      <td>€300K</td>\n",
       "      <td>€500</td>\n",
       "      <td>1480</td>\n",
       "    </tr>\n",
       "    <tr>\n",
       "      <th>I. Alemayehu</th>\n",
       "      <td>16</td>\n",
       "      <td>Sweden</td>\n",
       "      <td>['CM']</td>\n",
       "      <td>55</td>\n",
       "      <td>81</td>\n",
       "      <td>Djurgården</td>\n",
       "      <td>2023 ~ 2025</td>\n",
       "      <td>€500K</td>\n",
       "      <td>€500</td>\n",
       "      <td>1510</td>\n",
       "    </tr>\n",
       "  </tbody>\n",
       "</table>\n",
       "</div>"
      ],
      "text/plain": [
       "                      Age National_team     Positions  Overall  \\\n",
       "Player_name                                                      \n",
       "G. Ilenikhena          16        France        ['ST']       64   \n",
       "B. Rice                16      Scotland       ['CDM']       59   \n",
       "L. Miller              16      Scotland        ['CM']       59   \n",
       "S. Amo-Ameyaw          16       England  ['LW', 'RW']       60   \n",
       "F. Rózga               16        Poland        ['LM']       56   \n",
       "F. Rodríguez-Gentile   16     Argentina        ['ST']       57   \n",
       "H. Koch                16       Germany        ['ST']       57   \n",
       "M. Egbring             16   Netherlands        ['RB']       58   \n",
       "K. Kolanko             16        Poland        ['LM']       55   \n",
       "D. Alfonsi             16        Sweden        ['CM']       53   \n",
       "I. Alemayehu           16        Sweden        ['CM']       55   \n",
       "\n",
       "                      Potential_overall           Current_club  \\\n",
       "Player_name                                                      \n",
       "G. Ilenikhena                        84                Antwerp   \n",
       "B. Rice                              85                Rangers   \n",
       "L. Miller                            85             Motherwell   \n",
       "S. Amo-Ameyaw                        80            Southampton   \n",
       "F. Rózga                             79        Cracovia Kraków   \n",
       "F. Rodríguez-Gentile                 81      Preston North End   \n",
       "H. Koch                              77  DSC Arminia Bielefeld   \n",
       "M. Egbring                           78                Vitesse   \n",
       "K. Kolanko                           80          Górnik Zabrze   \n",
       "D. Alfonsi                           77           Varberg BoIS   \n",
       "I. Alemayehu                         81             Djurgården   \n",
       "\n",
       "                     Current_contract  Value  Wage  Total_stats  \n",
       "Player_name                                                      \n",
       "G. Ilenikhena             2023 ~ 2027  €1.6M   €1K         1561  \n",
       "B. Rice                   2021 ~ 2026  €875K  €500         1524  \n",
       "L. Miller                 2022 ~ 2025  €900K  €500         1621  \n",
       "S. Amo-Ameyaw             2023 ~ 2026  €675K   €1K         1493  \n",
       "F. Rózga                  2023 ~ 2026  €450K  €500         1344  \n",
       "F. Rodríguez-Gentile      2023 ~ 2025  €525K   €1K         1386  \n",
       "H. Koch                   2023 ~ 2026  €450K  €500         1383  \n",
       "M. Egbring                2023 ~ 2026  €525K  €500         1443  \n",
       "K. Kolanko                2022 ~ 2024  €400K  €500         1344  \n",
       "D. Alfonsi                2022 ~ 2025  €300K  €500         1480  \n",
       "I. Alemayehu              2023 ~ 2025  €500K  €500         1510  "
      ]
     },
     "execution_count": 21,
     "metadata": {},
     "output_type": "execute_result"
    }
   ],
   "source": [
    "#querying  df for the min age  \n",
    "players[players['Age']==players['Age'].min()]"
   ]
  },
  {
   "cell_type": "markdown",
   "id": "42d84e9b-5122-43f6-af6f-6f120fd660e4",
   "metadata": {
    "jp-MarkdownHeadingCollapsed": true
   },
   "source": [
    "### Observations:\n",
    "    Age is skewed to the Right .(indicates younger players are prefered to older players )\n",
    "    Maximum age is found to be 44yrs that being player 23\\n G. Buffo  from club Parma,\n",
    "    median Age is 23yrs and minimum Age is 16yrs . \n",
    "    Mean age is 24yrs \n",
    "    With 56 players below the age of 18yrs and 219 players above the Age of 30yrs and 2024 players between the ages of 18yrs 30yrs \n",
    "    Most players  are in the Age range  of 17yrs to 26yrs.\n",
    "    There are few and fewer players passed Age 30yrs \n"
   ]
  },
  {
   "cell_type": "markdown",
   "id": "eb7ae3a3-260d-4198-9abc-a54220c724ce",
   "metadata": {
    "jp-MarkdownHeadingCollapsed": true
   },
   "source": [
    "### Feature: National team"
   ]
  },
  {
   "cell_type": "code",
   "execution_count": 22,
   "id": "381eddeb-195d-4b52-b97b-2506e7170300",
   "metadata": {},
   "outputs": [
    {
     "data": {
      "text/plain": [
       "count        2299\n",
       "unique        112\n",
       "top       England\n",
       "freq          241\n",
       "Name: National_team, dtype: object"
      ]
     },
     "execution_count": 22,
     "metadata": {},
     "output_type": "execute_result"
    }
   ],
   "source": [
    "#getting description\n",
    "players.National_team.describe()"
   ]
  },
  {
   "cell_type": "code",
   "execution_count": 23,
   "id": "568057ca-d7aa-4bc3-8de7-8f01d424bc1d",
   "metadata": {},
   "outputs": [
    {
     "data": {
      "text/plain": [
       "[Text(0, 0, 'England'),\n",
       " Text(1, 0, 'Spain'),\n",
       " Text(2, 0, 'France'),\n",
       " Text(3, 0, 'Germany'),\n",
       " Text(4, 0, 'Brazil'),\n",
       " Text(5, 0, 'Argentina'),\n",
       " Text(6, 0, 'Italy'),\n",
       " Text(7, 0, 'Portugal'),\n",
       " Text(8, 0, 'Netherlands'),\n",
       " Text(9, 0, 'Belgium')]"
      ]
     },
     "execution_count": 23,
     "metadata": {},
     "output_type": "execute_result"
    },
    {
     "data": {
      "image/png": "[encoded data removed]",
      "text/plain": [
       "<Figure size 900x400 with 1 Axes>"
      ]
     },
     "metadata": {},
     "output_type": "display_data"
    }
   ],
   "source": [
    "#Top 10 countries with the highest player count  \n",
    "players_by_National_team = players.National_team.value_counts().head(10)\n",
    "fig, ax = plt.subplots(figsize=(9,4))\n",
    "ax = players_by_National_team.plot(kind='bar',\n",
    "                                       title=\"Top 10 Countries and number of players\",\n",
    "                                       ylabel='Number of players ')\n",
    "ax.set_xticklabels(players_by_National_team.index, rotation=45, ha='right')"
   ]
  },
  {
   "cell_type": "markdown",
   "id": "b83575b5-8856-4ee7-8a1e-5ce102325a43",
   "metadata": {
    "jp-MarkdownHeadingCollapsed": true
   },
   "source": [
    "### Observations:\n",
    "    There are 112 National teams in the data frame\n",
    "    The top 10 countries in descending order from  country with the highest number of players to country with least \n",
    "    England has the most count of players (241) followed by spain then France,Germany,bazil,argentina,italy,Portgual,Netherlands and belguim\n",
    "    South africa only has 1 player \n",
    "\n",
    "    "
   ]
  },
  {
   "cell_type": "markdown",
   "id": "ce04cd56-6a94-4477-a47b-0a10495b661a",
   "metadata": {
    "jp-MarkdownHeadingCollapsed": true
   },
   "source": [
    "### Feature: Positions"
   ]
  },
  {
   "cell_type": "code",
   "execution_count": 24,
   "id": "bcff8fba-19ae-4d18-b5f7-ab8d80483a6e",
   "metadata": {},
   "outputs": [
    {
     "data": {
      "text/plain": [
       "Index(['Age', 'National_team', 'Positions', 'Overall', 'Potential_overall',\n",
       "       'Current_club', 'Current_contract', 'Value', 'Wage', 'Total_stats'],\n",
       "      dtype='object')"
      ]
     },
     "execution_count": 24,
     "metadata": {},
     "output_type": "execute_result"
    }
   ],
   "source": [
    "#getting df columns \n",
    "players.columns\n"
   ]
  },
  {
   "cell_type": "code",
   "execution_count": 25,
   "id": "26cf43cf-fb6c-4a70-8aa0-6f05942aa2ee",
   "metadata": {},
   "outputs": [
    {
     "name": "stderr",
     "output_type": "stream",
     "text": [
      "C:\\Users\\M D\\AppData\\Local\\Temp\\ipykernel_14784\\1976991380.py:8: UserWarning: set_ticklabels() should only be used with a fixed number of ticks, i.e. after set_ticks() or using a FixedLocator.\n",
      "  ax.set_xticklabels(players.Positions.value_counts().head(10).index,rotation=45, ha='right')\n"
     ]
    },
    {
     "data": {
      "text/plain": [
       "[Text(0, 0, \"['CB']\"),\n",
       " Text(1, 0, \"['ST']\"),\n",
       " Text(2, 0, \"['GK']\"),\n",
       " Text(3, 0, \"['CDM', 'CM']\"),\n",
       " Text(4, 0, \"['CM', 'CDM']\"),\n",
       " Text(5, 0, \"['CM']\"),\n",
       " Text(6, 0, \"['CAM', 'CM']\"),\n",
       " Text(7, 0, \"['LB']\"),\n",
       " Text(8, 0, \"['CM', 'CAM']\"),\n",
       " Text(9, 0, \"['RB']\")]"
      ]
     },
     "execution_count": 25,
     "metadata": {},
     "output_type": "execute_result"
    },
    {
     "data": {
      "image/png": "[encoded data removed]",
      "text/plain": [
       "<Figure size 900x400 with 1 Axes>"
      ]
     },
     "metadata": {},
     "output_type": "display_data"
    }
   ],
   "source": [
    "#querying df for top 10 positions \n",
    "positions_df = players.Positions.value_counts().head(10).reset_index()\n",
    "positions_df\n",
    "fig, ax = plt.subplots(figsize=(9,4))\n",
    "ax = sns.barplot(data=positions_df, x='Positions',y='count' )\n",
    "ax.set_title('Top 10 positions most players play')\n",
    "ax.set_ylabel(\"Frequency\")\n",
    "ax.set_xticklabels(players.Positions.value_counts().head(10).index,rotation=45, ha='right')\n",
    "\n"
   ]
  },
  {
   "cell_type": "markdown",
   "id": "9de0cbb1-d153-44c7-b508-e7ee3aee5a1b",
   "metadata": {
    "jp-MarkdownHeadingCollapsed": true
   },
   "source": [
    "### Observations:\n",
    "    The Top 10 positions played by players in the dataframe play are [CB],[ST],[GK],[CDM,CM]\n",
    "    "
   ]
  },
  {
   "cell_type": "markdown",
   "id": "772ab1fa-bad7-42a3-bd65-75de4e19d74f",
   "metadata": {
    "jp-MarkdownHeadingCollapsed": true
   },
   "source": [
    "### Feature: Current_club"
   ]
  },
  {
   "cell_type": "code",
   "execution_count": 26,
   "id": "206e9df5-7a9f-4116-8e05-757fc72045d6",
   "metadata": {},
   "outputs": [
    {
     "data": {
      "text/plain": [
       "[Text(0, 0, 'Real Madrid'),\n",
       " Text(1, 0, 'Manchester United'),\n",
       " Text(2, 0, 'Paris Saint Germain'),\n",
       " Text(3, 0, 'Manchester City'),\n",
       " Text(4, 0, 'Tottenham Hotspur'),\n",
       " Text(5, 0, 'Chelsea'),\n",
       " Text(6, 0, 'FC Barcelona'),\n",
       " Text(7, 0, 'Arsenal'),\n",
       " Text(8, 0, 'Milan'),\n",
       " Text(9, 0, 'Bayer 04 Leverkusen')]"
      ]
     },
     "execution_count": 26,
     "metadata": {},
     "output_type": "execute_result"
    },
    {
     "data": {
      "image/png": "[encoded data removed]",
      "text/plain": [
       "<Figure size 900x400 with 1 Axes>"
      ]
     },
     "metadata": {},
     "output_type": "display_data"
    }
   ],
   "source": [
    "#looking at the top 10 clubs with most players\n",
    "players_by_Current_club = players.Current_club.value_counts().head(10)\n",
    "fig, ax = plt.subplots(figsize=(9,4))\n",
    "ax = players_by_Current_club.plot(kind='bar',\n",
    "                                       title=\" Top 10 Current_clubs with highest Number of players\" ,\n",
    "                                       ylabel='Number of players ')\n",
    "ax.set_xticklabels(players_by_Current_club.index, rotation=45, ha='right')"
   ]
  },
  {
   "cell_type": "code",
   "execution_count": 27,
   "id": "684a861c-bb71-4c0c-96fd-a4bdece678ae",
   "metadata": {},
   "outputs": [
    {
     "data": {
      "text/html": [
       "<div>\n",
       "<style scoped>\n",
       "    .dataframe tbody tr th:only-of-type {\n",
       "        vertical-align: middle;\n",
       "    }\n",
       "\n",
       "    .dataframe tbody tr th {\n",
       "        vertical-align: top;\n",
       "    }\n",
       "\n",
       "    .dataframe thead th {\n",
       "        text-align: right;\n",
       "    }\n",
       "</style>\n",
       "<table border=\"1\" class=\"dataframe\">\n",
       "  <thead>\n",
       "    <tr style=\"text-align: right;\">\n",
       "      <th></th>\n",
       "      <th>count</th>\n",
       "    </tr>\n",
       "  </thead>\n",
       "  <tbody>\n",
       "    <tr>\n",
       "      <th>count</th>\n",
       "      <td>411.000000</td>\n",
       "    </tr>\n",
       "    <tr>\n",
       "      <th>mean</th>\n",
       "      <td>3.043796</td>\n",
       "    </tr>\n",
       "    <tr>\n",
       "      <th>std</th>\n",
       "      <td>2.438118</td>\n",
       "    </tr>\n",
       "    <tr>\n",
       "      <th>min</th>\n",
       "      <td>1.000000</td>\n",
       "    </tr>\n",
       "    <tr>\n",
       "      <th>25%</th>\n",
       "      <td>1.000000</td>\n",
       "    </tr>\n",
       "    <tr>\n",
       "      <th>50%</th>\n",
       "      <td>2.000000</td>\n",
       "    </tr>\n",
       "    <tr>\n",
       "      <th>75%</th>\n",
       "      <td>4.000000</td>\n",
       "    </tr>\n",
       "    <tr>\n",
       "      <th>max</th>\n",
       "      <td>11.000000</td>\n",
       "    </tr>\n",
       "  </tbody>\n",
       "</table>\n",
       "</div>"
      ],
      "text/plain": [
       "            count\n",
       "count  411.000000\n",
       "mean     3.043796\n",
       "std      2.438118\n",
       "min      1.000000\n",
       "25%      1.000000\n",
       "50%      2.000000\n",
       "75%      4.000000\n",
       "max     11.000000"
      ]
     },
     "execution_count": 27,
     "metadata": {},
     "output_type": "execute_result"
    }
   ],
   "source": [
    "#clubs with less than 11 players \n",
    "less_than_11_players = players.Current_club.value_counts().reset_index()\n",
    "less_than_11_players[less_than_11_players['count']<=11].describe()"
   ]
  },
  {
   "cell_type": "markdown",
   "id": "0d5bc791-9ace-4ed0-b162-065818d1c08d",
   "metadata": {
    "jp-MarkdownHeadingCollapsed": true
   },
   "source": [
    "### Observations:\n",
    "    Real mardrid has the largest number of players then followed by Manchester united then Paris Saint Germain as \n",
    "    seen about in the bar chart of the top 10 clubs with the largest number of players in the dataframe\n",
    "    There are 411 clubs with less than or equal to  11 players in the dataframe "
   ]
  },
  {
   "cell_type": "markdown",
   "id": "c88a8c4b-d7cb-489a-bdec-8e8d417c8138",
   "metadata": {
    "jp-MarkdownHeadingCollapsed": true
   },
   "source": [
    "### Feature: Overall"
   ]
  },
  {
   "cell_type": "code",
   "execution_count": 28,
   "id": "0292dd83-31aa-4405-8b5c-04923bc060dc",
   "metadata": {},
   "outputs": [
    {
     "data": {
      "text/plain": [
       "count    2299.000000\n",
       "mean       72.558939\n",
       "std         6.867031\n",
       "min        49.000000\n",
       "25%        68.000000\n",
       "50%        73.000000\n",
       "75%        77.000000\n",
       "max        91.000000\n",
       "Name: Overall, dtype: float64"
      ]
     },
     "execution_count": 28,
     "metadata": {},
     "output_type": "execute_result"
    }
   ],
   "source": [
    "players.Overall.describe()"
   ]
  },
  {
   "cell_type": "code",
   "execution_count": 29,
   "id": "b401d3c6-b8d3-494b-9110-104bad31d440",
   "metadata": {},
   "outputs": [
    {
     "data": {
      "text/html": [
       "<div>\n",
       "<style scoped>\n",
       "    .dataframe tbody tr th:only-of-type {\n",
       "        vertical-align: middle;\n",
       "    }\n",
       "\n",
       "    .dataframe tbody tr th {\n",
       "        vertical-align: top;\n",
       "    }\n",
       "\n",
       "    .dataframe thead th {\n",
       "        text-align: right;\n",
       "    }\n",
       "</style>\n",
       "<table border=\"1\" class=\"dataframe\">\n",
       "  <thead>\n",
       "    <tr style=\"text-align: right;\">\n",
       "      <th></th>\n",
       "      <th>Age</th>\n",
       "      <th>National_team</th>\n",
       "      <th>Positions</th>\n",
       "      <th>Overall</th>\n",
       "      <th>Potential_overall</th>\n",
       "      <th>Current_club</th>\n",
       "      <th>Current_contract</th>\n",
       "      <th>Value</th>\n",
       "      <th>Wage</th>\n",
       "      <th>Total_stats</th>\n",
       "    </tr>\n",
       "    <tr>\n",
       "      <th>Player_name</th>\n",
       "      <th></th>\n",
       "      <th></th>\n",
       "      <th></th>\n",
       "      <th></th>\n",
       "      <th></th>\n",
       "      <th></th>\n",
       "      <th></th>\n",
       "      <th></th>\n",
       "      <th></th>\n",
       "      <th></th>\n",
       "    </tr>\n",
       "  </thead>\n",
       "  <tbody>\n",
       "    <tr>\n",
       "      <th>E. Haaland</th>\n",
       "      <td>22</td>\n",
       "      <td>Norway</td>\n",
       "      <td>['ST']</td>\n",
       "      <td>91</td>\n",
       "      <td>94</td>\n",
       "      <td>Manchester City</td>\n",
       "      <td>2022 ~ 2027</td>\n",
       "      <td>€185M</td>\n",
       "      <td>€340K</td>\n",
       "      <td>2158</td>\n",
       "    </tr>\n",
       "    <tr>\n",
       "      <th>K. Mbappé</th>\n",
       "      <td>24</td>\n",
       "      <td>France</td>\n",
       "      <td>['ST', 'LW']</td>\n",
       "      <td>91</td>\n",
       "      <td>94</td>\n",
       "      <td>Paris Saint Germain</td>\n",
       "      <td>2018 ~ 2024</td>\n",
       "      <td>€181.5M</td>\n",
       "      <td>€230K</td>\n",
       "      <td>2204</td>\n",
       "    </tr>\n",
       "    <tr>\n",
       "      <th>K. De Bruyne</th>\n",
       "      <td>32</td>\n",
       "      <td>Belgium</td>\n",
       "      <td>['CM', 'CAM']</td>\n",
       "      <td>91</td>\n",
       "      <td>91</td>\n",
       "      <td>Manchester City</td>\n",
       "      <td>2015 ~ 2025</td>\n",
       "      <td>€103M</td>\n",
       "      <td>€350K</td>\n",
       "      <td>2317</td>\n",
       "    </tr>\n",
       "  </tbody>\n",
       "</table>\n",
       "</div>"
      ],
      "text/plain": [
       "              Age National_team      Positions  Overall  Potential_overall  \\\n",
       "Player_name                                                                  \n",
       "E. Haaland     22        Norway         ['ST']       91                 94   \n",
       "K. Mbappé      24        France   ['ST', 'LW']       91                 94   \n",
       "K. De Bruyne   32       Belgium  ['CM', 'CAM']       91                 91   \n",
       "\n",
       "                     Current_club Current_contract    Value   Wage  \\\n",
       "Player_name                                                          \n",
       "E. Haaland        Manchester City      2022 ~ 2027    €185M  €340K   \n",
       "K. Mbappé     Paris Saint Germain      2018 ~ 2024  €181.5M  €230K   \n",
       "K. De Bruyne      Manchester City      2015 ~ 2025    €103M  €350K   \n",
       "\n",
       "              Total_stats  \n",
       "Player_name                \n",
       "E. Haaland           2158  \n",
       "K. Mbappé            2204  \n",
       "K. De Bruyne         2317  "
      ]
     },
     "execution_count": 29,
     "metadata": {},
     "output_type": "execute_result"
    }
   ],
   "source": [
    "#querying  df for the max overall \n",
    "players[players['Overall']==players['Overall'].max()]"
   ]
  },
  {
   "cell_type": "code",
   "execution_count": 30,
   "id": "d8ce3914-8e7e-452c-bea4-b998e93645dc",
   "metadata": {},
   "outputs": [
    {
     "data": {
      "text/html": [
       "<div>\n",
       "<style scoped>\n",
       "    .dataframe tbody tr th:only-of-type {\n",
       "        vertical-align: middle;\n",
       "    }\n",
       "\n",
       "    .dataframe tbody tr th {\n",
       "        vertical-align: top;\n",
       "    }\n",
       "\n",
       "    .dataframe thead th {\n",
       "        text-align: right;\n",
       "    }\n",
       "</style>\n",
       "<table border=\"1\" class=\"dataframe\">\n",
       "  <thead>\n",
       "    <tr style=\"text-align: right;\">\n",
       "      <th></th>\n",
       "      <th>Age</th>\n",
       "      <th>National_team</th>\n",
       "      <th>Positions</th>\n",
       "      <th>Overall</th>\n",
       "      <th>Potential_overall</th>\n",
       "      <th>Current_club</th>\n",
       "      <th>Current_contract</th>\n",
       "      <th>Value</th>\n",
       "      <th>Wage</th>\n",
       "      <th>Total_stats</th>\n",
       "    </tr>\n",
       "    <tr>\n",
       "      <th>Player_name</th>\n",
       "      <th></th>\n",
       "      <th></th>\n",
       "      <th></th>\n",
       "      <th></th>\n",
       "      <th></th>\n",
       "      <th></th>\n",
       "      <th></th>\n",
       "      <th></th>\n",
       "      <th></th>\n",
       "      <th></th>\n",
       "    </tr>\n",
       "  </thead>\n",
       "  <tbody>\n",
       "    <tr>\n",
       "      <th>O. Cisneros</th>\n",
       "      <td>19</td>\n",
       "      <td>United States</td>\n",
       "      <td>['CM', 'CAM']</td>\n",
       "      <td>49</td>\n",
       "      <td>63</td>\n",
       "      <td>Sporting Kansas City</td>\n",
       "      <td>2021 ~ 2023</td>\n",
       "      <td>€110K</td>\n",
       "      <td>€650</td>\n",
       "      <td>1414</td>\n",
       "    </tr>\n",
       "  </tbody>\n",
       "</table>\n",
       "</div>"
      ],
      "text/plain": [
       "             Age  National_team      Positions  Overall  Potential_overall  \\\n",
       "Player_name                                                                  \n",
       "O. Cisneros   19  United States  ['CM', 'CAM']       49                 63   \n",
       "\n",
       "                     Current_club Current_contract  Value  Wage  Total_stats  \n",
       "Player_name                                                                   \n",
       "O. Cisneros  Sporting Kansas City      2021 ~ 2023  €110K  €650         1414  "
      ]
     },
     "execution_count": 30,
     "metadata": {},
     "output_type": "execute_result"
    }
   ],
   "source": [
    "#querying  df for the min overall \n",
    "players[players['Overall']==players['Overall'].min()]"
   ]
  },
  {
   "cell_type": "code",
   "execution_count": 31,
   "id": "5343157f-9c69-4fbe-bcd7-1e6e816e61e2",
   "metadata": {},
   "outputs": [
    {
     "data": {
      "image/png": "[encoded data removed]",
      "text/plain": [
       "<Figure size 640x480 with 1 Axes>"
      ]
     },
     "metadata": {},
     "output_type": "display_data"
    }
   ],
   "source": [
    "#boxplot of Overall\n",
    "boxplt(players,\"Overall\")"
   ]
  },
  {
   "cell_type": "markdown",
   "id": "04f97e0d-6902-4543-8129-11c3c987e444",
   "metadata": {},
   "source": [
    "We have a few outliners at the bottom of the 25th quantile "
   ]
  },
  {
   "cell_type": "code",
   "execution_count": 32,
   "id": "02bf692e-c82b-440f-b73a-3feed82e1747",
   "metadata": {},
   "outputs": [
    {
     "name": "stdout",
     "output_type": "stream",
     "text": [
      "IQR:9.0,Lower_Limit:63.5,Upper_Limit:81.5\n",
      "players below 64 Overall are 246 players\n",
      "players above 82 Overall are 211 players\n",
      "players between 64 Overall and 82 Overall are 1842 players\n"
     ]
    },
    {
     "data": {
      "text/plain": [
       "(None, None)"
      ]
     },
     "execution_count": 32,
     "metadata": {},
     "output_type": "execute_result"
    }
   ],
   "source": [
    "#getting outliner info \n",
    "interquantile_range(players,\"Overall\")"
   ]
  },
  {
   "cell_type": "code",
   "execution_count": 33,
   "id": "bc764ba3-1c2b-4c1c-8b27-666341ec9457",
   "metadata": {},
   "outputs": [
    {
     "data": {
      "image/png": "[encoded data removed]",
      "text/plain": [
       "<Figure size 900x400 with 1 Axes>"
      ]
     },
     "metadata": {},
     "output_type": "display_data"
    }
   ],
   "source": [
    "histogram(players.Overall,\"Overall\")"
   ]
  },
  {
   "cell_type": "code",
   "execution_count": 34,
   "id": "652d2c5c-a8c5-4230-abe0-6acfd6a85c49",
   "metadata": {},
   "outputs": [
    {
     "name": "stdout",
     "output_type": "stream",
     "text": [
      "Shapiro-Wilk Test Statistic: 0.9937113523483276\n",
      "P-value: 2.3701449691770904e-08\n",
      "Overall does not likely  follow a normal distribution.\n"
     ]
    }
   ],
   "source": [
    "check_normality(players,\"Overall\")"
   ]
  },
  {
   "cell_type": "markdown",
   "id": "92019356-2281-4a0e-988a-9ac8be149086",
   "metadata": {},
   "source": [
    "mean is almost equal to the median its normally distributed "
   ]
  },
  {
   "cell_type": "markdown",
   "id": "e7bb6f0f-c57f-463d-888e-be6720d0fe91",
   "metadata": {},
   "source": [
    "### Observations:\n",
    "    Maximun overall score is 91 belonging to players  E. Haaland from club Mancity, K. Mbappé from club Paris Saint Germain \n",
    "    and K. De Bruyne from club Mancity\n",
    "    Median Overall is 73\n",
    "    Minimum overall score is 49  belonging to player O. Cisneros from club Sporting Kansas city rs"
   ]
  },
  {
   "cell_type": "markdown",
   "id": "01ab02e4-c21b-452e-8127-fbee2bcb9684",
   "metadata": {
    "jp-MarkdownHeadingCollapsed": true
   },
   "source": [
    "### Feature: Current_contract"
   ]
  },
  {
   "cell_type": "code",
   "execution_count": 35,
   "id": "83305b5d-37ed-4399-8159-d2874ff3535b",
   "metadata": {},
   "outputs": [],
   "source": [
    "#cleaning Current_contract column \n",
    "default_value = 0\n",
    "players[['Contract_start_year','Contract_end_year']] = players.Current_contract.str.split(\"~\",expand=True)\n",
    "#players[['Contract_start_year','Contract_end_year']].astype(int)\n",
    "players['Contract_end_year'] = pd.to_numeric(players['Contract_end_year'])\n",
    "\n",
    "players['Contract_start_year'] = players['Contract_start_year'].str.extract(r'(\\d{4})').fillna(default_value).astype(int)\n",
    "start_year_contract_summary = players['Contract_start_year'].value_counts().reset_index()\n",
    "end_year_contract_summary = players['Contract_end_year'].value_counts().reset_index()\n",
    "\n"
   ]
  },
  {
   "cell_type": "code",
   "execution_count": 36,
   "id": "87bf33ac-0563-4cf9-ab59-5738884c7483",
   "metadata": {
    "scrolled": true
   },
   "outputs": [
    {
     "data": {
      "image/png": "[encoded data removed]",
      "text/plain": [
       "<Figure size 900x400 with 1 Axes>"
      ]
     },
     "metadata": {},
     "output_type": "display_data"
    }
   ],
   "source": [
    "#finding contract duration\n",
    "players['Contract_duration'] = players['Contract_end_year'] - players['Contract_start_year']\n",
    "histogram(players.Contract_duration,\"Contract_duration\")\n"
   ]
  },
  {
   "cell_type": "code",
   "execution_count": 37,
   "id": "3505473a-d170-4849-b7ca-4892e2823709",
   "metadata": {},
   "outputs": [
    {
     "name": "stdout",
     "output_type": "stream",
     "text": [
      "IQR:2.0,Lower_Limit:2.0,Upper_Limit:6.0\n",
      "players below 2 Contract_duration are 101 players\n",
      "players above 6 Contract_duration are 292 players\n",
      "players between 2 Contract_duration and 6 Contract_duration are 1603 players\n"
     ]
    },
    {
     "data": {
      "text/plain": [
       "(None, None)"
      ]
     },
     "execution_count": 37,
     "metadata": {},
     "output_type": "execute_result"
    }
   ],
   "source": [
    "#interquantile description\n",
    "interquantile_range(players, \"Contract_duration\")"
   ]
  },
  {
   "cell_type": "code",
   "execution_count": 38,
   "id": "e8d27102-d29c-4059-8f70-71a142a16308",
   "metadata": {},
   "outputs": [
    {
     "data": {
      "text/plain": [
       "55"
      ]
     },
     "execution_count": 38,
     "metadata": {},
     "output_type": "execute_result"
    }
   ],
   "source": [
    "#querying free players\n",
    "Free_players = players[players['Current_contract']=='Free'].reset_index()\n",
    "Free_players.shape[0]"
   ]
  },
  {
   "cell_type": "markdown",
   "id": "5af60e5a-283c-44bf-aa57-79098e8fab33",
   "metadata": {
    "jp-MarkdownHeadingCollapsed": true
   },
   "source": [
    "### Observations:\n",
    "    303 have no contract duration\n",
    "    101 players have Contract_duration below 2 years\n",
    "    55 play for  Free hence Wages-->€0 \n",
    "    Most players (1603) contracts are 2 to 6 years long. \n",
    "    There are 292 players  with contracts above 6 years \n",
    "    645 players data on there contract is unclear, we have no idea when they were signed.some have sign data and no contract end date and vice versia\n",
    "    \n",
    "                                                                                                           \n",
    "                                                                                                           \n",
    "     \n"
   ]
  },
  {
   "cell_type": "markdown",
   "id": "05edd047-b4e1-444d-be68-d1c7c43d23eb",
   "metadata": {
    "jp-MarkdownHeadingCollapsed": true
   },
   "source": [
    "### Feature: Wage"
   ]
  },
  {
   "cell_type": "code",
   "execution_count": 39,
   "id": "65998825-3407-4242-9636-9952aee004bf",
   "metadata": {},
   "outputs": [],
   "source": [
    "#cleaning wage feature removing special characters\n",
    "import re\n",
    "def clean_value(value, pattern):\n",
    "    match = re.search(r'\\d+(\\.\\d+)?', value)\n",
    "    if match:\n",
    "        numeric_value = float(match.group())\n",
    "        if 'M' in pattern:\n",
    "            return int(numeric_value * 1e6)\n",
    "        elif 'K' in pattern:\n",
    "            return int(numeric_value * 1e3)\n",
    "    return None\n"
   ]
  },
  {
   "cell_type": "code",
   "execution_count": 40,
   "id": "23d5d113-00db-4980-b9a2-5206f1f372bf",
   "metadata": {},
   "outputs": [
    {
     "data": {
      "text/plain": [
       "Player_name\n",
       "T. Almada         10000\n",
       "L. Palma          22000\n",
       "R. Lavia          32000\n",
       "W. Zaïre-Emery     9000\n",
       "Gabri Veiga       28000\n",
       "                  ...  \n",
       "D. Polvara         1000\n",
       "San Román          3000\n",
       "F. Hornby         11000\n",
       "Klauss             9000\n",
       "T. Băluță          6000\n",
       "Name: Cleaned_Wage, Length: 2299, dtype: int64"
      ]
     },
     "execution_count": 40,
     "metadata": {},
     "output_type": "execute_result"
    }
   ],
   "source": [
    "players['Cleaned_Wage'] = players['Wage'].apply(lambda x: clean_value(x, 'M') if 'M' in x else clean_value(x, 'K'))\n",
    "players['Cleaned_Wage']\n"
   ]
  },
  {
   "cell_type": "code",
   "execution_count": 41,
   "id": "d7fc5fc1-9f9a-45ff-a7ea-8e342d315407",
   "metadata": {},
   "outputs": [
    {
     "data": {
      "text/plain": [
       "0"
      ]
     },
     "execution_count": 41,
     "metadata": {},
     "output_type": "execute_result"
    }
   ],
   "source": [
    "#checking for nulls in Wage \n",
    "players.Cleaned_Wage.isna().sum()\n"
   ]
  },
  {
   "cell_type": "code",
   "execution_count": 42,
   "id": "e65a1039-7216-461f-9547-6af89d6675ad",
   "metadata": {},
   "outputs": [
    {
     "data": {
      "text/plain": [
       "count      2299.000000\n",
       "mean      69816.876903\n",
       "std      155929.549245\n",
       "min           0.000000\n",
       "25%        7000.000000\n",
       "50%       19000.000000\n",
       "75%       49000.000000\n",
       "max      950000.000000\n",
       "Name: Cleaned_Wage, dtype: float64"
      ]
     },
     "execution_count": 42,
     "metadata": {},
     "output_type": "execute_result"
    }
   ],
   "source": [
    "#stat description \n",
    "players['Cleaned_Wage'].describe()"
   ]
  },
  {
   "cell_type": "code",
   "execution_count": 43,
   "id": "bb8fdf2d-b0f5-4ba7-b9a9-46b7854da4be",
   "metadata": {},
   "outputs": [
    {
     "name": "stdout",
     "output_type": "stream",
     "text": [
      "IQR:42000.0,Lower_Limit:-14000.0,Upper_Limit:70000.0\n",
      "players below -14000 Cleaned_Wage are 0 players\n",
      "players above 70000 Cleaned_Wage are 389 players\n",
      "players between -14000 Cleaned_Wage and 70000 Cleaned_Wage are 1910 players\n"
     ]
    },
    {
     "data": {
      "text/plain": [
       "(None, None)"
      ]
     },
     "execution_count": 43,
     "metadata": {},
     "output_type": "execute_result"
    }
   ],
   "source": [
    "#IQR summary\n",
    "interquantile_range(players, \"Cleaned_Wage\")"
   ]
  },
  {
   "cell_type": "code",
   "execution_count": 44,
   "id": "7969e2c1-8670-4f09-ab0b-efc0ba389103",
   "metadata": {},
   "outputs": [
    {
     "data": {
      "image/png": "[encoded data removed]",
      "text/plain": [
       "<Figure size 900x400 with 1 Axes>"
      ]
     },
     "metadata": {},
     "output_type": "display_data"
    }
   ],
   "source": [
    "#histogram of wage \n",
    "histogram(players.Cleaned_Wage, \"Cleaned_Wage\",bins=30)"
   ]
  },
  {
   "cell_type": "code",
   "execution_count": 45,
   "id": "acabdb58-e922-49ee-95f0-278df219e03f",
   "metadata": {},
   "outputs": [
    {
     "data": {
      "text/html": [
       "<div>\n",
       "<style scoped>\n",
       "    .dataframe tbody tr th:only-of-type {\n",
       "        vertical-align: middle;\n",
       "    }\n",
       "\n",
       "    .dataframe tbody tr th {\n",
       "        vertical-align: top;\n",
       "    }\n",
       "\n",
       "    .dataframe thead th {\n",
       "        text-align: right;\n",
       "    }\n",
       "</style>\n",
       "<table border=\"1\" class=\"dataframe\">\n",
       "  <thead>\n",
       "    <tr style=\"text-align: right;\">\n",
       "      <th></th>\n",
       "      <th>Age</th>\n",
       "      <th>National_team</th>\n",
       "      <th>Positions</th>\n",
       "      <th>Overall</th>\n",
       "      <th>Potential_overall</th>\n",
       "      <th>Current_club</th>\n",
       "      <th>Current_contract</th>\n",
       "      <th>Value</th>\n",
       "      <th>Wage</th>\n",
       "      <th>Total_stats</th>\n",
       "      <th>Contract_start_year</th>\n",
       "      <th>Contract_end_year</th>\n",
       "      <th>Contract_duration</th>\n",
       "      <th>Cleaned_Wage</th>\n",
       "    </tr>\n",
       "    <tr>\n",
       "      <th>Player_name</th>\n",
       "      <th></th>\n",
       "      <th></th>\n",
       "      <th></th>\n",
       "      <th></th>\n",
       "      <th></th>\n",
       "      <th></th>\n",
       "      <th></th>\n",
       "      <th></th>\n",
       "      <th></th>\n",
       "      <th></th>\n",
       "      <th></th>\n",
       "      <th></th>\n",
       "      <th></th>\n",
       "      <th></th>\n",
       "    </tr>\n",
       "  </thead>\n",
       "  <tbody>\n",
       "    <tr>\n",
       "      <th>E. Tezgel</th>\n",
       "      <td>17</td>\n",
       "      <td>England</td>\n",
       "      <td>['ST']</td>\n",
       "      <td>56</td>\n",
       "      <td>79</td>\n",
       "      <td>Stoke City</td>\n",
       "      <td>2022 ~ 2025</td>\n",
       "      <td>€450K</td>\n",
       "      <td>€950</td>\n",
       "      <td>1351</td>\n",
       "      <td>2022</td>\n",
       "      <td>2025.0</td>\n",
       "      <td>3.0</td>\n",
       "      <td>950000</td>\n",
       "    </tr>\n",
       "    <tr>\n",
       "      <th>L. Krejčí</th>\n",
       "      <td>24</td>\n",
       "      <td>Czech Republic</td>\n",
       "      <td>['CB', 'CDM', 'CM']</td>\n",
       "      <td>77</td>\n",
       "      <td>84</td>\n",
       "      <td>Sparta Praha</td>\n",
       "      <td>2019 ~ 2025</td>\n",
       "      <td>€19.5M</td>\n",
       "      <td>€950</td>\n",
       "      <td>2013</td>\n",
       "      <td>2019</td>\n",
       "      <td>2025.0</td>\n",
       "      <td>6.0</td>\n",
       "      <td>950000</td>\n",
       "    </tr>\n",
       "    <tr>\n",
       "      <th>23\\n A. Bencze</th>\n",
       "      <td>20</td>\n",
       "      <td>Hungary</td>\n",
       "      <td>['GK']</td>\n",
       "      <td>62</td>\n",
       "      <td>79</td>\n",
       "      <td>Vitória SC</td>\n",
       "      <td>2020 ~ 2025</td>\n",
       "      <td>€925K</td>\n",
       "      <td>€950</td>\n",
       "      <td>854</td>\n",
       "      <td>2020</td>\n",
       "      <td>2025.0</td>\n",
       "      <td>5.0</td>\n",
       "      <td>950000</td>\n",
       "    </tr>\n",
       "    <tr>\n",
       "      <th>P. Yazbek</th>\n",
       "      <td>21</td>\n",
       "      <td>Australia</td>\n",
       "      <td>['CDM', 'CM']</td>\n",
       "      <td>65</td>\n",
       "      <td>77</td>\n",
       "      <td>Viking</td>\n",
       "      <td>2023 ~ 2026</td>\n",
       "      <td>€1.7M</td>\n",
       "      <td>€950</td>\n",
       "      <td>1742</td>\n",
       "      <td>2023</td>\n",
       "      <td>2026.0</td>\n",
       "      <td>3.0</td>\n",
       "      <td>950000</td>\n",
       "    </tr>\n",
       "    <tr>\n",
       "      <th>23\\n G. Dănuleasă</th>\n",
       "      <td>19</td>\n",
       "      <td>Romania</td>\n",
       "      <td>['CB']</td>\n",
       "      <td>56</td>\n",
       "      <td>73</td>\n",
       "      <td>SSC Farul</td>\n",
       "      <td>2021 ~ 2023</td>\n",
       "      <td>€350K</td>\n",
       "      <td>€950</td>\n",
       "      <td>1286</td>\n",
       "      <td>2021</td>\n",
       "      <td>2023.0</td>\n",
       "      <td>2.0</td>\n",
       "      <td>950000</td>\n",
       "    </tr>\n",
       "    <tr>\n",
       "      <th>Guille Bueno</th>\n",
       "      <td>20</td>\n",
       "      <td>Spain</td>\n",
       "      <td>['LB', 'LW']</td>\n",
       "      <td>64</td>\n",
       "      <td>75</td>\n",
       "      <td>Borussia Dortmund II</td>\n",
       "      <td>2021 ~ 2026</td>\n",
       "      <td>€1.2M</td>\n",
       "      <td>€900</td>\n",
       "      <td>1621</td>\n",
       "      <td>2021</td>\n",
       "      <td>2026.0</td>\n",
       "      <td>5.0</td>\n",
       "      <td>900000</td>\n",
       "    </tr>\n",
       "    <tr>\n",
       "      <th>C. Zafeiris</th>\n",
       "      <td>20</td>\n",
       "      <td>Norway</td>\n",
       "      <td>['CM', 'CDM']</td>\n",
       "      <td>74</td>\n",
       "      <td>82</td>\n",
       "      <td>Slavia Praha</td>\n",
       "      <td>2023 ~ 2027</td>\n",
       "      <td>€9M</td>\n",
       "      <td>€900</td>\n",
       "      <td>2030</td>\n",
       "      <td>2023</td>\n",
       "      <td>2027.0</td>\n",
       "      <td>4.0</td>\n",
       "      <td>900000</td>\n",
       "    </tr>\n",
       "    <tr>\n",
       "      <th>L. Traoré</th>\n",
       "      <td>22</td>\n",
       "      <td>Burkina Faso</td>\n",
       "      <td>['ST']</td>\n",
       "      <td>74</td>\n",
       "      <td>82</td>\n",
       "      <td>Shakhtar Donetsk</td>\n",
       "      <td>2021 ~ 2026</td>\n",
       "      <td>€9.5M</td>\n",
       "      <td>€900</td>\n",
       "      <td>1778</td>\n",
       "      <td>2021</td>\n",
       "      <td>2026.0</td>\n",
       "      <td>5.0</td>\n",
       "      <td>900000</td>\n",
       "    </tr>\n",
       "    <tr>\n",
       "      <th>R. Duncan</th>\n",
       "      <td>19</td>\n",
       "      <td>Scotland</td>\n",
       "      <td>['CAM', 'CM', 'RW']</td>\n",
       "      <td>61</td>\n",
       "      <td>81</td>\n",
       "      <td>Aberdeen</td>\n",
       "      <td>2020 ~ 2024</td>\n",
       "      <td>€925K</td>\n",
       "      <td>€900</td>\n",
       "      <td>1600</td>\n",
       "      <td>2020</td>\n",
       "      <td>2024.0</td>\n",
       "      <td>4.0</td>\n",
       "      <td>900000</td>\n",
       "    </tr>\n",
       "    <tr>\n",
       "      <th>G. O'Donkor</th>\n",
       "      <td>18</td>\n",
       "      <td>England</td>\n",
       "      <td>['ST']</td>\n",
       "      <td>59</td>\n",
       "      <td>72</td>\n",
       "      <td>Oxford United</td>\n",
       "      <td>2021 ~ 2026</td>\n",
       "      <td>€525K</td>\n",
       "      <td>€900</td>\n",
       "      <td>1525</td>\n",
       "      <td>2021</td>\n",
       "      <td>2026.0</td>\n",
       "      <td>5.0</td>\n",
       "      <td>900000</td>\n",
       "    </tr>\n",
       "    <tr>\n",
       "      <th>J. Domina</th>\n",
       "      <td>17</td>\n",
       "      <td>Argentina</td>\n",
       "      <td>['ST']</td>\n",
       "      <td>66</td>\n",
       "      <td>80</td>\n",
       "      <td>Unión Santa Fe</td>\n",
       "      <td>2023 ~ 2025</td>\n",
       "      <td>€2M</td>\n",
       "      <td>€900</td>\n",
       "      <td>1706</td>\n",
       "      <td>2023</td>\n",
       "      <td>2025.0</td>\n",
       "      <td>2.0</td>\n",
       "      <td>900000</td>\n",
       "    </tr>\n",
       "    <tr>\n",
       "      <th>I. Fray</th>\n",
       "      <td>20</td>\n",
       "      <td>United States</td>\n",
       "      <td>['CB']</td>\n",
       "      <td>58</td>\n",
       "      <td>73</td>\n",
       "      <td>Inter Miami</td>\n",
       "      <td>2021 ~ 2024</td>\n",
       "      <td>€450K</td>\n",
       "      <td>€900</td>\n",
       "      <td>1357</td>\n",
       "      <td>2021</td>\n",
       "      <td>2024.0</td>\n",
       "      <td>3.0</td>\n",
       "      <td>900000</td>\n",
       "    </tr>\n",
       "    <tr>\n",
       "      <th>Z. Sertdemir</th>\n",
       "      <td>18</td>\n",
       "      <td>Denmark</td>\n",
       "      <td>['CM']</td>\n",
       "      <td>62</td>\n",
       "      <td>80</td>\n",
       "      <td>Nordsjælland</td>\n",
       "      <td>2023 ~ 2026</td>\n",
       "      <td>€1M</td>\n",
       "      <td>€900</td>\n",
       "      <td>1676</td>\n",
       "      <td>2023</td>\n",
       "      <td>2026.0</td>\n",
       "      <td>3.0</td>\n",
       "      <td>900000</td>\n",
       "    </tr>\n",
       "    <tr>\n",
       "      <th>23\\n Marlon</th>\n",
       "      <td>26</td>\n",
       "      <td>Brazil</td>\n",
       "      <td>['CB']</td>\n",
       "      <td>75</td>\n",
       "      <td>77</td>\n",
       "      <td>Monza</td>\n",
       "      <td>Jun 30, 2023</td>\n",
       "      <td>€6M</td>\n",
       "      <td>€900</td>\n",
       "      <td>1795</td>\n",
       "      <td>2023</td>\n",
       "      <td>NaN</td>\n",
       "      <td>NaN</td>\n",
       "      <td>900000</td>\n",
       "    </tr>\n",
       "    <tr>\n",
       "      <th>C. Jander</th>\n",
       "      <td>20</td>\n",
       "      <td>Germany</td>\n",
       "      <td>['CM']</td>\n",
       "      <td>65</td>\n",
       "      <td>76</td>\n",
       "      <td>MSV Duisburg</td>\n",
       "      <td>2022 ~ 2024</td>\n",
       "      <td>€1.6M</td>\n",
       "      <td>€900</td>\n",
       "      <td>1761</td>\n",
       "      <td>2022</td>\n",
       "      <td>2024.0</td>\n",
       "      <td>2.0</td>\n",
       "      <td>900000</td>\n",
       "    </tr>\n",
       "    <tr>\n",
       "      <th>P. Bucha</th>\n",
       "      <td>25</td>\n",
       "      <td>Czech Republic</td>\n",
       "      <td>['CDM', 'CM', 'CAM']</td>\n",
       "      <td>74</td>\n",
       "      <td>78</td>\n",
       "      <td>Viktoria Plzeň</td>\n",
       "      <td>2018 ~ 2024</td>\n",
       "      <td>€5.5M</td>\n",
       "      <td>€900</td>\n",
       "      <td>2042</td>\n",
       "      <td>2018</td>\n",
       "      <td>2024.0</td>\n",
       "      <td>6.0</td>\n",
       "      <td>900000</td>\n",
       "    </tr>\n",
       "    <tr>\n",
       "      <th>O. Liimatta</th>\n",
       "      <td>18</td>\n",
       "      <td>Finland</td>\n",
       "      <td>['CAM']</td>\n",
       "      <td>65</td>\n",
       "      <td>80</td>\n",
       "      <td>Famalicão</td>\n",
       "      <td>2023 ~ 2027</td>\n",
       "      <td>€1.7M</td>\n",
       "      <td>€900</td>\n",
       "      <td>1669</td>\n",
       "      <td>2023</td>\n",
       "      <td>2027.0</td>\n",
       "      <td>4.0</td>\n",
       "      <td>900000</td>\n",
       "    </tr>\n",
       "    <tr>\n",
       "      <th>J. Antonioli</th>\n",
       "      <td>19</td>\n",
       "      <td>Netherlands</td>\n",
       "      <td>['CAM', 'CM']</td>\n",
       "      <td>60</td>\n",
       "      <td>71</td>\n",
       "      <td>FC Volendam</td>\n",
       "      <td>2021 ~ 2024</td>\n",
       "      <td>€525K</td>\n",
       "      <td>€850</td>\n",
       "      <td>1612</td>\n",
       "      <td>2021</td>\n",
       "      <td>2024.0</td>\n",
       "      <td>3.0</td>\n",
       "      <td>850000</td>\n",
       "    </tr>\n",
       "    <tr>\n",
       "      <th>23\\n D. Valdés</th>\n",
       "      <td>31</td>\n",
       "      <td>Colombia</td>\n",
       "      <td>['ST']</td>\n",
       "      <td>67</td>\n",
       "      <td>67</td>\n",
       "      <td>Rionegro Águilas</td>\n",
       "      <td>2023 ~ 2023</td>\n",
       "      <td>€850K</td>\n",
       "      <td>€850</td>\n",
       "      <td>1650</td>\n",
       "      <td>2023</td>\n",
       "      <td>2023.0</td>\n",
       "      <td>0.0</td>\n",
       "      <td>850000</td>\n",
       "    </tr>\n",
       "    <tr>\n",
       "      <th>A. Bakir</th>\n",
       "      <td>22</td>\n",
       "      <td>Germany</td>\n",
       "      <td>['CAM', 'LM']</td>\n",
       "      <td>63</td>\n",
       "      <td>71</td>\n",
       "      <td>MSV Duisburg</td>\n",
       "      <td>2021 ~ 2024</td>\n",
       "      <td>€1.1M</td>\n",
       "      <td>€850</td>\n",
       "      <td>1610</td>\n",
       "      <td>2021</td>\n",
       "      <td>2024.0</td>\n",
       "      <td>3.0</td>\n",
       "      <td>850000</td>\n",
       "    </tr>\n",
       "  </tbody>\n",
       "</table>\n",
       "</div>"
      ],
      "text/plain": [
       "                   Age   National_team             Positions  Overall  \\\n",
       "Player_name                                                             \n",
       "E. Tezgel           17         England                ['ST']       56   \n",
       "L. Krejčí           24  Czech Republic   ['CB', 'CDM', 'CM']       77   \n",
       "23\\n A. Bencze      20         Hungary                ['GK']       62   \n",
       "P. Yazbek           21       Australia         ['CDM', 'CM']       65   \n",
       "23\\n G. Dănuleasă   19         Romania                ['CB']       56   \n",
       "Guille Bueno        20           Spain          ['LB', 'LW']       64   \n",
       "C. Zafeiris         20          Norway         ['CM', 'CDM']       74   \n",
       "L. Traoré           22    Burkina Faso                ['ST']       74   \n",
       "R. Duncan           19        Scotland   ['CAM', 'CM', 'RW']       61   \n",
       "G. O'Donkor         18         England                ['ST']       59   \n",
       "J. Domina           17       Argentina                ['ST']       66   \n",
       "I. Fray             20   United States                ['CB']       58   \n",
       "Z. Sertdemir        18         Denmark                ['CM']       62   \n",
       "23\\n Marlon         26          Brazil                ['CB']       75   \n",
       "C. Jander           20         Germany                ['CM']       65   \n",
       "P. Bucha            25  Czech Republic  ['CDM', 'CM', 'CAM']       74   \n",
       "O. Liimatta         18         Finland               ['CAM']       65   \n",
       "J. Antonioli        19     Netherlands         ['CAM', 'CM']       60   \n",
       "23\\n D. Valdés      31        Colombia                ['ST']       67   \n",
       "A. Bakir            22         Germany         ['CAM', 'LM']       63   \n",
       "\n",
       "                   Potential_overall          Current_club Current_contract  \\\n",
       "Player_name                                                                   \n",
       "E. Tezgel                         79            Stoke City      2022 ~ 2025   \n",
       "L. Krejčí                         84          Sparta Praha      2019 ~ 2025   \n",
       "23\\n A. Bencze                    79            Vitória SC      2020 ~ 2025   \n",
       "P. Yazbek                         77                Viking      2023 ~ 2026   \n",
       "23\\n G. Dănuleasă                 73             SSC Farul      2021 ~ 2023   \n",
       "Guille Bueno                      75  Borussia Dortmund II      2021 ~ 2026   \n",
       "C. Zafeiris                       82          Slavia Praha      2023 ~ 2027   \n",
       "L. Traoré                         82      Shakhtar Donetsk      2021 ~ 2026   \n",
       "R. Duncan                         81              Aberdeen      2020 ~ 2024   \n",
       "G. O'Donkor                       72         Oxford United      2021 ~ 2026   \n",
       "J. Domina                         80        Unión Santa Fe      2023 ~ 2025   \n",
       "I. Fray                           73           Inter Miami      2021 ~ 2024   \n",
       "Z. Sertdemir                      80          Nordsjælland      2023 ~ 2026   \n",
       "23\\n Marlon                       77                 Monza     Jun 30, 2023   \n",
       "C. Jander                         76          MSV Duisburg      2022 ~ 2024   \n",
       "P. Bucha                          78        Viktoria Plzeň      2018 ~ 2024   \n",
       "O. Liimatta                       80             Famalicão      2023 ~ 2027   \n",
       "J. Antonioli                      71           FC Volendam      2021 ~ 2024   \n",
       "23\\n D. Valdés                    67      Rionegro Águilas      2023 ~ 2023   \n",
       "A. Bakir                          71          MSV Duisburg      2021 ~ 2024   \n",
       "\n",
       "                    Value  Wage  Total_stats  Contract_start_year  \\\n",
       "Player_name                                                         \n",
       "E. Tezgel           €450K  €950         1351                 2022   \n",
       "L. Krejčí          €19.5M  €950         2013                 2019   \n",
       "23\\n A. Bencze      €925K  €950          854                 2020   \n",
       "P. Yazbek           €1.7M  €950         1742                 2023   \n",
       "23\\n G. Dănuleasă   €350K  €950         1286                 2021   \n",
       "Guille Bueno        €1.2M  €900         1621                 2021   \n",
       "C. Zafeiris           €9M  €900         2030                 2023   \n",
       "L. Traoré           €9.5M  €900         1778                 2021   \n",
       "R. Duncan           €925K  €900         1600                 2020   \n",
       "G. O'Donkor         €525K  €900         1525                 2021   \n",
       "J. Domina             €2M  €900         1706                 2023   \n",
       "I. Fray             €450K  €900         1357                 2021   \n",
       "Z. Sertdemir          €1M  €900         1676                 2023   \n",
       "23\\n Marlon           €6M  €900         1795                 2023   \n",
       "C. Jander           €1.6M  €900         1761                 2022   \n",
       "P. Bucha            €5.5M  €900         2042                 2018   \n",
       "O. Liimatta         €1.7M  €900         1669                 2023   \n",
       "J. Antonioli        €525K  €850         1612                 2021   \n",
       "23\\n D. Valdés      €850K  €850         1650                 2023   \n",
       "A. Bakir            €1.1M  €850         1610                 2021   \n",
       "\n",
       "                   Contract_end_year  Contract_duration  Cleaned_Wage  \n",
       "Player_name                                                            \n",
       "E. Tezgel                     2025.0                3.0        950000  \n",
       "L. Krejčí                     2025.0                6.0        950000  \n",
       "23\\n A. Bencze                2025.0                5.0        950000  \n",
       "P. Yazbek                     2026.0                3.0        950000  \n",
       "23\\n G. Dănuleasă             2023.0                2.0        950000  \n",
       "Guille Bueno                  2026.0                5.0        900000  \n",
       "C. Zafeiris                   2027.0                4.0        900000  \n",
       "L. Traoré                     2026.0                5.0        900000  \n",
       "R. Duncan                     2024.0                4.0        900000  \n",
       "G. O'Donkor                   2026.0                5.0        900000  \n",
       "J. Domina                     2025.0                2.0        900000  \n",
       "I. Fray                       2024.0                3.0        900000  \n",
       "Z. Sertdemir                  2026.0                3.0        900000  \n",
       "23\\n Marlon                      NaN                NaN        900000  \n",
       "C. Jander                     2024.0                2.0        900000  \n",
       "P. Bucha                      2024.0                6.0        900000  \n",
       "O. Liimatta                   2027.0                4.0        900000  \n",
       "J. Antonioli                  2024.0                3.0        850000  \n",
       "23\\n D. Valdés                2023.0                0.0        850000  \n",
       "A. Bakir                      2024.0                3.0        850000  "
      ]
     },
     "execution_count": 45,
     "metadata": {},
     "output_type": "execute_result"
    }
   ],
   "source": [
    "#querying for top 10 most paid players\n",
    "top_10_most_paid_players = players.sort_values('Cleaned_Wage',ascending=False).head(20)\n",
    "top_10_most_paid_players"
   ]
  },
  {
   "cell_type": "markdown",
   "id": "f6ed6195-2958-4b9b-9c29-2352194e75ee",
   "metadata": {},
   "source": [
    "### Observations:\n",
    "    IQR:€42k, lower_Limit: €0k, Upper_Limit: €70.0k\n",
    "    min wage is 0\n",
    "    median wage is €19K\n",
    "    mean wage is 70K\n",
    "    max wage is €950k\n",
    "    players below €0k  Wage are 0 \n",
    "    players above €70k Wage are 389 \n",
    "    players between €0k Wage and €70k Wage are 1910 \n",
    "        "
   ]
  },
  {
   "cell_type": "markdown",
   "id": "7a680e09-93cb-4e9f-8c0e-8a095ce7ddd6",
   "metadata": {
    "jp-MarkdownHeadingCollapsed": true
   },
   "source": [
    "### Feature: Value"
   ]
  },
  {
   "cell_type": "code",
   "execution_count": 46,
   "id": "d96100f5-02f4-4d34-a32b-a8dab79ba6f5",
   "metadata": {},
   "outputs": [
    {
     "data": {
      "text/plain": [
       "Player_name\n",
       "T. Almada         €39.5M\n",
       "L. Palma           €2.2M\n",
       "R. Lavia             €7M\n",
       "W. Zaïre-Emery      €24M\n",
       "Gabri Veiga       €31.5M\n",
       "                   ...  \n",
       "D. Polvara         €625K\n",
       "San Román          €1.4M\n",
       "F. Hornby          €2.8M\n",
       "Klauss             €5.5M\n",
       "T. Băluță          €2.1M\n",
       "Name: Value, Length: 2299, dtype: object"
      ]
     },
     "execution_count": 46,
     "metadata": {},
     "output_type": "execute_result"
    }
   ],
   "source": [
    "# checking for nulls \n",
    "players.Value.isna().sum()\n",
    "players.Value"
   ]
  },
  {
   "cell_type": "code",
   "execution_count": 47,
   "id": "53f92230-c7d8-47d5-a966-c4d64e77e6e7",
   "metadata": {},
   "outputs": [
    {
     "data": {
      "text/plain": [
       "Player_name\n",
       "T. Almada         39500000\n",
       "L. Palma           2200000\n",
       "R. Lavia           7000000\n",
       "W. Zaïre-Emery    24000000\n",
       "Gabri Veiga       31500000\n",
       "                    ...   \n",
       "D. Polvara          625000\n",
       "San Román          1400000\n",
       "F. Hornby          2800000\n",
       "Klauss             5500000\n",
       "T. Băluță          2100000\n",
       "Name: Cleaned_Value, Length: 2299, dtype: int64"
      ]
     },
     "execution_count": 47,
     "metadata": {},
     "output_type": "execute_result"
    }
   ],
   "source": [
    "#value str cleaning \n",
    "players['Cleaned_Value'] = players['Value'].apply(lambda x: clean_value(x, 'M') if 'M' in x else clean_value(x, 'K'))\n",
    "players['Cleaned_Value']\n"
   ]
  },
  {
   "cell_type": "code",
   "execution_count": 48,
   "id": "6b0074c1-91d4-43b6-96e6-01686d7498c6",
   "metadata": {},
   "outputs": [
    {
     "data": {
      "image/png": "[encoded data removed]",
      "text/plain": [
       "<Figure size 900x400 with 1 Axes>"
      ]
     },
     "metadata": {},
     "output_type": "display_data"
    }
   ],
   "source": [
    "# histogram of players value\n",
    "histogram(players.Cleaned_Value,\"Cleaned_Value\")"
   ]
  },
  {
   "cell_type": "code",
   "execution_count": 49,
   "id": "a33a9eb7-b062-431e-a51c-2fa69024522a",
   "metadata": {},
   "outputs": [
    {
     "name": "stdout",
     "output_type": "stream",
     "text": [
      "IQR:10600000.0,Lower_Limit:-3400000.0,Upper_Limit:17800000.0\n",
      "players below -3400000 Cleaned_Value are 0 players\n",
      "players above 17800000 Cleaned_Value are 420 players\n",
      "players between -3400000 Cleaned_Value and 17800000 Cleaned_Value are 1879 players\n"
     ]
    },
    {
     "data": {
      "text/plain": [
       "(None, None)"
      ]
     },
     "execution_count": 49,
     "metadata": {},
     "output_type": "execute_result"
    }
   ],
   "source": [
    "interquantile_range(players,\"Cleaned_Value\")"
   ]
  },
  {
   "cell_type": "code",
   "execution_count": 53,
   "id": "f9210dc4-8baa-4122-b42b-fb8b6bb67a35",
   "metadata": {},
   "outputs": [
    {
     "data": {
      "text/plain": [
       "Index(['E. Haaland'], dtype='object', name='Player_name')"
      ]
     },
     "execution_count": 53,
     "metadata": {},
     "output_type": "execute_result"
    }
   ],
   "source": [
    "#most valuable player \n",
    "most_valued_player = players[players['Cleaned_Value']==players['Cleaned_Value'].max()].index\n",
    "most_valued_player"
   ]
  },
  {
   "cell_type": "markdown",
   "id": "e87ea331-bc1f-483a-b5c1-c1f783466a67",
   "metadata": {},
   "source": [
    "### Observations:\n",
    "    IQR:€10,600,000,Lower_Limit:€0,Upper_Limit:€17,800,000.0\n",
    "    players below  €0 Value are 0 players\n",
    "    players above €17,800,000 Cleaned_Value are 420 players\n",
    "    players between €0 Cleaned_Value and €17,800,000 Cleaned_Value are 1879 players\n",
    "    E. Haaland is the most valuable player at 185M in the data frame"
   ]
  }
 ],
 "metadata": {
  "kernelspec": {
   "display_name": "Python 3 (ipykernel)",
   "language": "python",
   "name": "python3"
  },
  "language_info": {
   "codemirror_mode": {
    "name": "ipython",
    "version": 3
   },
   "file_extension": ".py",
   "mimetype": "text/x-python",
   "name": "python",
   "nbconvert_exporter": "python",
   "pygments_lexer": "ipython3",
   "version": "3.12.0"
  }
 },
 "nbformat": 4,
 "nbformat_minor": 5
}
